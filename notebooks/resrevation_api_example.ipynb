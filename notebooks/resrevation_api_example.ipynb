{
  "nbformat": 4,
  "nbformat_minor": 0,
  "metadata": {
    "colab": {
      "name": "Copy of resrevation_api_example.ipynb",
      "provenance": [],
      "collapsed_sections": []
    },
    "kernelspec": {
      "name": "python3",
      "display_name": "Python 3"
    }
  },
  "cells": [
    {
      "cell_type": "markdown",
      "metadata": {
        "id": "FWy0P2K8D0Zb",
        "colab_type": "text"
      },
      "source": [
        "Copyright [2018] [Google]\n",
        "Licensed under the Apache License, Version 2.0 (the \"License\");\n",
        "you may not use this file except in compliance with the License.\n",
        "You may obtain a copy of the License at\n",
        "    http://www.apache.org/licenses/LICENSE-2.0\n",
        "Unless required by applicable law or agreed to in writing, software\n",
        "distributed under the License is distributed on an \"AS IS\" BASIS,\n",
        "WITHOUT WARRANTIES OR CONDITIONS OF ANY KIND, either express or implied.\n",
        "See the License for the specific language governing permissions and\n",
        "limitations under the License."
      ]
    },
    {
      "cell_type": "code",
      "metadata": {
        "id": "qzEn-_Fv0t88",
        "colab_type": "code",
        "colab": {}
      },
      "source": [
        "!pip install google-api-python-client"
      ],
      "execution_count": 0,
      "outputs": []
    },
    {
      "cell_type": "code",
      "metadata": {
        "id": "dl1uH1bgIC7y",
        "colab_type": "code",
        "colab": {}
      },
      "source": [
        "admin_project_id =  ''#'Project that owns the slot capacity'\n",
        "project_id = ''#'BigQuery Project to use slots'\n",
        "region = 'US'"
      ],
      "execution_count": 0,
      "outputs": []
    },
    {
      "cell_type": "markdown",
      "metadata": {
        "id": "xEpuBu1yG_74",
        "colab_type": "text"
      },
      "source": [
        "# Authenticate"
      ]
    },
    {
      "cell_type": "code",
      "metadata": {
        "id": "H1PNpRHMeGVj",
        "colab_type": "code",
        "colab": {}
      },
      "source": [
        "from google.colab import auth\n",
        "auth.authenticate_user()\n",
        "\n",
        "# https://cloud.google.com/resource-manager/docs/creating-managing-projects\n",
        "!gcloud config set project {project_id}"
      ],
      "execution_count": 0,
      "outputs": []
    },
    {
      "cell_type": "markdown",
      "metadata": {
        "id": "RyosfrNcHJTb",
        "colab_type": "text"
      },
      "source": [
        "# On Demand Query"
      ]
    },
    {
      "cell_type": "code",
      "metadata": {
        "id": "apCceuLHepHq",
        "colab_type": "code",
        "colab": {}
      },
      "source": [
        "from google.cloud import bigquery\n",
        "from google.cloud.bigquery.job import QueryJobConfig\n",
        "import time\n",
        "\n",
        "def run_query(prefix, dry_run=True):\n",
        "  client = bigquery.Client(project=project_id)\n",
        "  config = QueryJobConfig(use_query_cache=False, \n",
        "                          use_legacy_sql=False,\n",
        "                          dry_run=dry_run)\n",
        "  \n",
        "  query = '''\n",
        "    SELECT source_id_mf, single_date, frame_id, count(*) OVER () as total\n",
        "    FROM `bigquery-public-data.wise_all_sky_data_release.mep_wise` a\n",
        "    INNER JOIN\n",
        "  \t  (\n",
        "        SELECT state_geom \n",
        "    \t  FROM `bigquery-public-data.geo_us_boundaries.states` \n",
        "    \t  WHERE state = 'VA'\n",
        "  \t  ) b\n",
        "  \t  ON ST_WITHIN(a.point, b.state_geom)\n",
        "    LIMIT 10000'''\n",
        "\n",
        "  start = time.time()\n",
        "  job = client.query(query, job_config=config, job_id_prefix=prefix)\n",
        "\n",
        "  while (not job.done()):\n",
        "    time.sleep(2)\n",
        "  \n",
        "  end = time.time()\n",
        "\n",
        "  GB = 1000 * 1000 * 1000\n",
        "  if not dry_run:\n",
        "    row_count = job.to_dataframe().total[0]\n",
        "    print('query took ~{} seconds to return'.format((end - start)))\n",
        "    print('query result is {}'.format(row_count))\n",
        "    print('GB processed {}'.format((job.total_bytes_processed / GB)))\n",
        "  else:\n",
        "    print('dry_run estimated GB processed {}'.format((job.total_bytes_processed / GB)))\n",
        "\n",
        "  print('GB billed {}'.format((job.total_bytes_billed / GB)))\n"
      ],
      "execution_count": 0,
      "outputs": []
    },
    {
      "cell_type": "code",
      "metadata": {
        "id": "63QX3a69pOMo",
        "colab_type": "code",
        "colab": {}
      },
      "source": [
        "run_query(\"on-demand-\")"
      ],
      "execution_count": 0,
      "outputs": []
    },
    {
      "cell_type": "markdown",
      "metadata": {
        "id": "MerkLiFxHWVh",
        "colab_type": "text"
      },
      "source": [
        "# Build Reservations API\n",
        "Use Google discovery api to build python client"
      ]
    },
    {
      "cell_type": "code",
      "metadata": {
        "id": "MHEAHN5vxqgw",
        "colab_type": "code",
        "colab": {}
      },
      "source": [
        "from apiclient.discovery import build\n",
        "res_api = build(serviceName='bigqueryreservation', version=\"v1beta1\").projects().locations()\n",
        "parent_arg = \"projects/{}/locations/{}\".format(admin_project_id, region)"
      ],
      "execution_count": 0,
      "outputs": []
    },
    {
      "cell_type": "markdown",
      "metadata": {
        "id": "UXdXV2MCH1Ro",
        "colab_type": "text"
      },
      "source": [
        "# Commitments, Reservations, and Assignments\n",
        "Commitment is a purchase, Flex slots in this case<br/>\n",
        "Reservation is a named allocation of slots<br/>\n",
        "Assignments give Orgs, Folders, and Projects access to a Reservation"
      ]
    },
    {
      "cell_type": "code",
      "metadata": {
        "id": "5XNmz1cnH66S",
        "colab_type": "code",
        "colab": {}
      },
      "source": [
        "\n",
        "def create_commitment(slots=500):\n",
        "  commitment_req = {\n",
        "    'plan':'FLEX',\n",
        "    'slotCount':slots\n",
        "  }\n",
        "\n",
        "  commit = res_api.capacityCommitments()\\\n",
        "             .create(parent=parent_arg, body=commitment_req)\\\n",
        "             .execute()\n",
        "  print(commit)\n",
        "  return commit['name']"
      ],
      "execution_count": 0,
      "outputs": []
    },
    {
      "cell_type": "code",
      "metadata": {
        "id": "_fxNz9tWvELM",
        "colab_type": "code",
        "colab": {}
      },
      "source": [
        "def create_reservation(reservation_name, slots=500):\n",
        "  reservation_req = {\n",
        "    'slotCapacity':slots,\n",
        "    'ignoreIdleSlots': False\n",
        "  }\n",
        "  res = res_api.reservations()\\\n",
        "          .create(parent=parent_arg, reservationId=reservation_name, body=reservation_req)\\\n",
        "          .execute()\n",
        "  print(res)\n",
        "  return res['name']"
      ],
      "execution_count": 0,
      "outputs": []
    },
    {
      "cell_type": "code",
      "metadata": {
        "id": "fRJk8g20_5Rj",
        "colab_type": "code",
        "colab": {}
      },
      "source": [
        "def create_assignment(reservation_id, user_project):\n",
        "  assignment_req = {\n",
        "    'assignee':\"projects/{}\".format(user_project),\n",
        "    'jobType':\"QUERY\"\n",
        "  }\n",
        "\n",
        "  assignment = res_api.reservations()\\\n",
        "                 .assignments()\\\n",
        "                 .create(parent=reservation_id, body=assignment_req)\\\n",
        "                 .execute()\n",
        "  print(assignment)\n",
        "  return assignment['name']"
      ],
      "execution_count": 0,
      "outputs": []
    },
    {
      "cell_type": "code",
      "metadata": {
        "id": "W0fCBvzzcpI2",
        "colab_type": "code",
        "colab": {}
      },
      "source": [
        "def cleanup(assignment_id, reservation_id, commit_id):\n",
        "  res_api.reservations()\\\n",
        "    .assignments()\\\n",
        "    .delete(name=assignment_id)\\\n",
        "    .execute()\n",
        "  res_api.reservations()\\\n",
        "    .delete(name=reservation_id)\\\n",
        "    .execute()\n",
        "  \n",
        "  retry = 0\n",
        "  while retry < 20:\n",
        "    try:\n",
        "      res_api.capacityCommitments()\\\n",
        "        .delete(name=commit_id)\\\n",
        "        .execute()\n",
        "      break\n",
        "    except:\n",
        "      retry += 1\n",
        "      time.sleep(5)"
      ],
      "execution_count": 0,
      "outputs": []
    },
    {
      "cell_type": "code",
      "metadata": {
        "id": "mpHhPzBtaz53",
        "colab_type": "code",
        "colab": {}
      },
      "source": [
        "start = time.time()\n",
        "slots = 500\n",
        "commit_id = create_commitment(slots)\n",
        "reservation_name = 'sample-reservation'\n",
        "res_id = create_reservation(reservation_name, slots)\n",
        "assign_id = create_assignment(res_id, project_id)\n",
        "time.sleep(180) #reservation takes a few minutes to kick in\n",
        "print('start query')\n",
        "run_query(\"reserved-\", False)\n",
        "cleanup(assign_id, res_id, commit_id)\n",
        "\n",
        "end = time.time()\n",
        "print(\"reservation ran for ~{} seconds\".format((end - start)))"
      ],
      "execution_count": 0,
      "outputs": []
    }
  ]
}