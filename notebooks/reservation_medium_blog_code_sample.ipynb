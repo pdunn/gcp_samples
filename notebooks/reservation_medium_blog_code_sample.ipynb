{
  "nbformat": 4,
  "nbformat_minor": 0,
  "metadata": {
    "colab": {
      "name": "reservation_medium_blog_code_sample.ipynb",
      "provenance": [],
      "collapsed_sections": [],
      "toc_visible": true
    },
    "kernelspec": {
      "name": "python3",
      "display_name": "Python 3"
    }
  },
  "cells": [
    {
      "cell_type": "markdown",
      "metadata": {
        "id": "FWy0P2K8D0Zb",
        "colab_type": "text"
      },
      "source": [
        "Copyright [2018] [Google]\n",
        "Licensed under the Apache License, Version 2.0 (the \"License\");\n",
        "you may not use this file except in compliance with the License.\n",
        "You may obtain a copy of the License at\n",
        "    http://www.apache.org/licenses/LICENSE-2.0\n",
        "Unless required by applicable law or agreed to in writing, software\n",
        "distributed under the License is distributed on an \"AS IS\" BASIS,\n",
        "WITHOUT WARRANTIES OR CONDITIONS OF ANY KIND, either express or implied.\n",
        "See the License for the specific language governing permissions and\n",
        "limitations under the License."
      ]
    },
    {
      "cell_type": "code",
      "metadata": {
        "id": "qzEn-_Fv0t88",
        "colab_type": "code",
        "colab": {}
      },
      "source": [
        "!pip install google-cloud-bigquery-reservation"
      ],
      "execution_count": 0,
      "outputs": []
    },
    {
      "cell_type": "markdown",
      "metadata": {
        "id": "V5vqnIgmPByF",
        "colab_type": "text"
      },
      "source": [
        "# Configure Project Variables"
      ]
    },
    {
      "cell_type": "code",
      "metadata": {
        "id": "dl1uH1bgIC7y",
        "colab_type": "code",
        "colab": {}
      },
      "source": [
        "admin_project_id =  ''#'Project that owns the slot capacity'\n",
        "project_id = ''#'BigQuery Project to use slots'\n",
        "region = 'US'"
      ],
      "execution_count": 0,
      "outputs": []
    },
    {
      "cell_type": "markdown",
      "metadata": {
        "id": "xEpuBu1yG_74",
        "colab_type": "text"
      },
      "source": [
        "# Authenticate"
      ]
    },
    {
      "cell_type": "code",
      "metadata": {
        "id": "H1PNpRHMeGVj",
        "colab_type": "code",
        "colab": {}
      },
      "source": [
        "from google.colab import auth\n",
        "auth.authenticate_user()\n",
        "\n",
        "# https://cloud.google.com/resource-manager/docs/creating-managing-projects\n",
        "!gcloud config set project {project_id}"
      ],
      "execution_count": 0,
      "outputs": []
    },
    {
      "cell_type": "markdown",
      "metadata": {
        "id": "RyosfrNcHJTb",
        "colab_type": "text"
      },
      "source": [
        "# On Demand Query"
      ]
    },
    {
      "cell_type": "code",
      "metadata": {
        "id": "apCceuLHepHq",
        "colab_type": "code",
        "colab": {}
      },
      "source": [
        "from google.cloud import bigquery\n",
        "from google.cloud.bigquery.job import QueryJobConfig\n",
        "import time\n",
        "\n",
        "def run_query(prefix, dry_run=True):\n",
        "  client = bigquery.Client(project=project_id)\n",
        "  config = QueryJobConfig(use_query_cache=False, \n",
        "                          use_legacy_sql=False,\n",
        "                          dry_run=dry_run)\n",
        "  \n",
        "  query = '''\n",
        "    SELECT source_id_mf, single_date, frame_id, count(*) OVER () as total\n",
        "    FROM `bigquery-public-data.wise_all_sky_data_release.mep_wise` a\n",
        "    INNER JOIN\n",
        "  \t  (\n",
        "        SELECT state_geom \n",
        "    \t  FROM `bigquery-public-data.geo_us_boundaries.states` \n",
        "    \t  WHERE state = 'VA'\n",
        "  \t  ) b\n",
        "  \t  ON ST_WITHIN(a.point, b.state_geom)\n",
        "    LIMIT 10000'''\n",
        "\n",
        "  start = time.time()\n",
        "  job = client.query(query, job_config=config, job_id_prefix=prefix)\n",
        "\n",
        "  GB = 2**30\n",
        "  if not dry_run:\n",
        "    job.result(max_results=1)\n",
        "    end = time.time()\n",
        "    row_count = job.to_dataframe().total[0]\n",
        "    print('query execution: ~{} seconds elapsed'.format((end - start)))\n",
        "    print('query result is {} rows'.format(row_count))\n",
        "    print('GiB processed {}'.format((job.total_bytes_processed / GB)))\n",
        "  else:\n",
        "    print('dry_run estimated GiB processed {}'.format((job.total_bytes_processed / GB)))\n",
        "\n",
        "  print('GiB billed {}'.format((job.total_bytes_billed / GB)))\n",
        "  "
      ],
      "execution_count": 0,
      "outputs": []
    },
    {
      "cell_type": "code",
      "metadata": {
        "id": "63QX3a69pOMo",
        "colab_type": "code",
        "colab": {}
      },
      "source": [
        "run_query(\"on-demand-\")"
      ],
      "execution_count": 0,
      "outputs": []
    },
    {
      "cell_type": "markdown",
      "metadata": {
        "id": "MerkLiFxHWVh",
        "colab_type": "text"
      },
      "source": [
        "# Build Reservations API"
      ]
    },
    {
      "cell_type": "code",
      "metadata": {
        "id": "MHEAHN5vxqgw",
        "colab_type": "code",
        "colab": {}
      },
      "source": [
        "from google.cloud.bigquery.reservation_v1 import *\n",
        "from google.api_core import retry\n",
        "\n",
        "res_api = ReservationServiceClient()\n",
        "parent_arg = \"projects/{}/locations/{}\".format(\n",
        "    admin_project_id, region)"
      ],
      "execution_count": 0,
      "outputs": []
    },
    {
      "cell_type": "markdown",
      "metadata": {
        "id": "UXdXV2MCH1Ro",
        "colab_type": "text"
      },
      "source": [
        "# Commitments, Reservations, and Assignments\n",
        "Commitment is a purchase, Flex slots in this case<br/>\n",
        "Reservation is a named allocation of slots<br/>\n",
        "Assignments give Orgs, Folders, and Projects access to a Reservation"
      ]
    },
    {
      "cell_type": "code",
      "metadata": {
        "id": "5XNmz1cnH66S",
        "colab_type": "code",
        "colab": {}
      },
      "source": [
        "\n",
        "def purchase_commitment(slots=500):\n",
        "  commit_config = CapacityCommitment(plan='FLEX', slot_count=slots)\n",
        "  commit = res_api.create_capacity_commitment(parent=parent_arg,\n",
        "                                              capacity_commitment=commit_config)\n",
        "  print(commit)\n",
        "  return commit.name"
      ],
      "execution_count": 0,
      "outputs": []
    },
    {
      "cell_type": "code",
      "metadata": {
        "id": "_fxNz9tWvELM",
        "colab_type": "code",
        "colab": {}
      },
      "source": [
        "def create_reservation(reservation_name, slots=500):\n",
        "  res_config = Reservation(slot_capacity=slots, ignore_idle_slots=False)\n",
        "  res = res_api.create_reservation(parent=parent_arg, \n",
        "                                   reservation_id=reservation_name,\n",
        "                                   reservation=res_config)  \n",
        "  print(res)\n",
        "  return res.name"
      ],
      "execution_count": 0,
      "outputs": []
    },
    {
      "cell_type": "code",
      "metadata": {
        "id": "fRJk8g20_5Rj",
        "colab_type": "code",
        "colab": {}
      },
      "source": [
        "def create_assignment(reservation_id, user_project):\n",
        "  assign_config = Assignment(job_type='QUERY',\n",
        "                             assignee='projects/{}'.format(user_project))\n",
        "  assign = res_api.create_assignment(parent=reservation_id,\n",
        "                                     assignment=assign_config)\n",
        "  print(assign)\n",
        "  return assign.name"
      ],
      "execution_count": 0,
      "outputs": []
    },
    {
      "cell_type": "code",
      "metadata": {
        "id": "W0fCBvzzcpI2",
        "colab_type": "code",
        "colab": {}
      },
      "source": [
        "def cleanup(assignment_id, reservation_id, commit_id):\n",
        "  res_api.delete_assignment(name=assignment_id)\n",
        "  res_api.delete_reservation(name=reservation_id)\n",
        "  res_api.delete_capacity_commitment(name=commit_id, \n",
        "                                     retry=retry.Retry(deadline=90, \n",
        "                                                       predicate=Exception,\n",
        "                                                       maximum=2))"
      ],
      "execution_count": 0,
      "outputs": []
    },
    {
      "cell_type": "markdown",
      "metadata": {
        "id": "PKenybrQPaFC",
        "colab_type": "text"
      },
      "source": [
        "# Use Reserved Slots\n",
        "Project will be billed for the time Flex Slots are used"
      ]
    },
    {
      "cell_type": "code",
      "metadata": {
        "id": "mpHhPzBtaz53",
        "colab_type": "code",
        "colab": {}
      },
      "source": [
        "start = time.time()\n",
        "slots = 500\n",
        "reservation_name = 'sample-reservation'\n",
        "\n",
        "commit_id = purchase_commitment(slots)\n",
        "res_id = create_reservation(reservation_name, slots)\n",
        "assign_id = create_assignment(res_id, project_id)\n",
        "\n",
        "time.sleep(150) # assignment takes a few minutes to attach\n",
        "run_query(\"reserved-\", False)\n",
        "cleanup(assign_id, res_id, commit_id)\n",
        "\n",
        "end = time.time()\n",
        "print(\"reservation ran for ~{} seconds\".format((end - start)))"
      ],
      "execution_count": 0,
      "outputs": []
    },
    {
      "cell_type": "markdown",
      "metadata": {
        "id": "p3YXKuY1dcZ6",
        "colab_type": "text"
      },
      "source": [
        ""
      ]
    }
  ]
}